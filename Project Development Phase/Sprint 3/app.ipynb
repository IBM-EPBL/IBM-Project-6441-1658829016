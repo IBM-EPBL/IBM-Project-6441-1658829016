{
 "cells": [
  {
   "cell_type": "code",
   "execution_count": 1,
   "id": "9a67084c",
   "metadata": {},
   "outputs": [],
   "source": [
    "import numpy as np\n",
    "from flask import Flask, request, jsonify, render_template\n",
    "import joblib\n",
    "import requests"
   ]
  },
  {
   "cell_type": "code",
   "execution_count": 2,
   "id": "92928833",
   "metadata": {},
   "outputs": [],
   "source": [
    "app = Flask(__name__)\n",
    "model = joblib.load(\"power_prediction.sav\")"
   ]
  },
  {
   "cell_type": "code",
   "execution_count": 3,
   "id": "6ee28a40",
   "metadata": {},
   "outputs": [],
   "source": [
    "@app.route('/')\n",
    "def home():\n",
    "    return render_template(\"intro.html\")\n",
    "\n",
    "@app.route('/predict')\n",
    "def predict():\n",
    "    return render_template(\"predict.html\")\n",
    "\n",
    "@app.route('/windapi', methods=['POST'])\n",
    "def windapi():\n",
    "    city = request.form.get('city')\n",
    "    apikey = \"d8484354b9e388875c48dae8d0d09cd1\"\n",
    "    url = \"http://api.openweathermap.org/data/2.5/weather?q=\" + city + \"&appid=\" + apikey\n",
    "    resp = requests.get(url)\n",
    "    resp = resp.json()\n",
    "    temp = str(resp[\"main\"][\"temp\"]) +\" °C\"\n",
    "    humid = str(resp[\"main\"][\"humidity\"]) + \" %\"\n",
    "    pressure = str(resp[\"main\"][\"pressure\"]) + \" mmHG\"\n",
    "    speed = str(resp[\"wind\"][\"speed\"]) + \" m/s\"\n",
    "    return render_template('predict.html', temp=temp, humid = humid, pressure=pressure, speed = speed)"
   ]
  },
  {
   "cell_type": "code",
   "execution_count": 4,
   "id": "bab06967",
   "metadata": {},
   "outputs": [],
   "source": [
    "@app.route('/y_predict',methods = ['POST'])\n",
    "def y_predict():\n",
    "    x_test = [[float(x) for x in request.form.values()]]\n",
    "    \n",
    "    prediction = model.predict(x_test)\n",
    "    print(prediction)\n",
    "    output = prediction[0]\n",
    "    return render_template('predict.html',prediction_text = 'The energy predicted is {:.2f} KWh'.format(output))"
   ]
  },
  {
   "cell_type": "code",
   "execution_count": null,
   "id": "1768a9b9",
   "metadata": {},
   "outputs": [
    {
     "name": "stdout",
     "output_type": "stream",
     "text": [
      " * Serving Flask app \"__main__\" (lazy loading)\n",
      " * Environment: production\n",
      "\u001b[31m   WARNING: This is a development server. Do not use it in a production deployment.\u001b[0m\n",
      "\u001b[2m   Use a production WSGI server instead.\u001b[0m\n",
      " * Debug mode: off\n"
     ]
    },
    {
     "name": "stderr",
     "output_type": "stream",
     "text": [
      " * Running on http://127.0.0.1:5000/ (Press CTRL+C to quit)\n"
     ]
    }
   ],
   "source": [
    "if __name__ == \"__main__\":\n",
    "    app.run(debug=False)"
   ]
  },
  {
   "cell_type": "code",
   "execution_count": null,
   "id": "5c1b2e47",
   "metadata": {},
   "outputs": [],
   "source": []
  }
 ],
 "metadata": {
  "kernelspec": {
   "display_name": "Python 3 (ipykernel)",
   "language": "python",
   "name": "python3"
  },
  "language_info": {
   "codemirror_mode": {
    "name": "ipython",
    "version": 3
   },
   "file_extension": ".py",
   "mimetype": "text/x-python",
   "name": "python",
   "nbconvert_exporter": "python",
   "pygments_lexer": "ipython3",
   "version": "3.9.12"
  }
 },
 "nbformat": 4,
 "nbformat_minor": 5
}
